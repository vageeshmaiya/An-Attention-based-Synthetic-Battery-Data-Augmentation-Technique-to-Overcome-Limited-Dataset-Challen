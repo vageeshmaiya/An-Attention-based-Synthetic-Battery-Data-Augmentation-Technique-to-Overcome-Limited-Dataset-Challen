{
  "nbformat": 4,
  "nbformat_minor": 0,
  "metadata": {
    "colab": {
      "name": "Attention-based-Synthetic-Battery-Data-Augmentation-Technique.ipynb",
      "provenance": [],
      "collapsed_sections": [],
      "authorship_tag": "ABX9TyPljwA2ypOv+6nkTFqceTWT",
      "include_colab_link": true
    },
    "kernelspec": {
      "name": "python3",
      "display_name": "Python 3"
    },
    "language_info": {
      "name": "python"
    },
    "accelerator": "GPU"
  },
  "cells": [
    {
      "cell_type": "markdown",
      "metadata": {
        "id": "view-in-github",
        "colab_type": "text"
      },
      "source": [
        "<a href=\"https://colab.research.google.com/github/vageeshmaiya/Attention-based-Synthetic-Battery-Data-Augmentation-Technique/blob/main/Attention_based_Synthetic_Battery_Data_Augmentation_Technique.ipynb\" target=\"_parent\"><img src=\"https://colab.research.google.com/assets/colab-badge.svg\" alt=\"Open In Colab\"/></a>"
      ]
    },
    {
      "cell_type": "markdown",
      "source": [
        "# **Attention-based-Synthetic-Battery-Data-Augmentation-Technique**"
      ],
      "metadata": {
        "id": "cqG-ArJ7CdNh"
      }
    },
    {
      "cell_type": "markdown",
      "source": [
        "### **Mounting Drive**"
      ],
      "metadata": {
        "id": "vTrUIAsZCgPa"
      }
    },
    {
      "cell_type": "code",
      "execution_count": 5,
      "metadata": {
        "colab": {
          "base_uri": "https://localhost:8080/"
        },
        "id": "OBD0qAr4CNkd",
        "outputId": "88aa7369-40ee-40a5-99b1-ceb3232ceff9"
      },
      "outputs": [
        {
          "output_type": "stream",
          "name": "stdout",
          "text": [
            "Drive already mounted at /content/drive; to attempt to forcibly remount, call drive.mount(\"/content/drive\", force_remount=True).\n"
          ]
        }
      ],
      "source": [
        "from google.colab import drive\n",
        "drive.mount('/content/drive')"
      ]
    },
    {
      "cell_type": "markdown",
      "source": [
        "### **Changing Directory path**"
      ],
      "metadata": {
        "id": "wNYPFTKaED6X"
      }
    },
    {
      "cell_type": "markdown",
      "source": [
        "###### **Steps To Follow**\n",
        "\n",
        "1. Once the drive has been mounted go to the files icon visible on the left hand side.\n",
        "\n",
        "2. Click on the drive folder.\n",
        "\n",
        "3. There find the folder containing the main_informer.py file.\n",
        "\n",
        "4. Right click on the folder and click on the folder and select the copy path option.\n",
        "\n",
        "5. Make sure to copy and paste the path of the folder containing the main_informer.py file in the code below. \n",
        "\n",
        "6. The path of the folder in the code below is ``/content/drive/MyDrive/Informer_model/informer``"
      ],
      "metadata": {
        "id": "RGLagXgiEJv5"
      }
    },
    {
      "cell_type": "code",
      "source": [
        "%cd /content/drive/MyDrive/Informer_model/informer\n",
        "!ls"
      ],
      "metadata": {
        "colab": {
          "base_uri": "https://localhost:8080/"
        },
        "id": "JgRskn6_EIw-",
        "outputId": "e7f746ef-feb3-48a7-d7fa-3f34dc4334a5"
      },
      "execution_count": 2,
      "outputs": [
        {
          "output_type": "stream",
          "name": "stdout",
          "text": [
            "/content/drive/MyDrive/Informer_model/informer\n",
            "checkpoints  exp      main_informer.py\trequirements.txt  utils\n",
            "data\t     LICENSE  models\t\tresults\n"
          ]
        }
      ]
    },
    {
      "cell_type": "markdown",
      "source": [
        "### **Running the main code**"
      ],
      "metadata": {
        "id": "9txkDEM-En4-"
      }
    },
    {
      "cell_type": "code",
      "source": [
        "!python -u main_informer.py --model informer --data Battery --train_epochs 4 --attn prob --freq s --features S "
      ],
      "metadata": {
        "colab": {
          "base_uri": "https://localhost:8080/"
        },
        "id": "4mlDW5yJEHg7",
        "outputId": "03f2a1c0-ee2c-496c-9738-abca54c07f0c"
      },
      "execution_count": 5,
      "outputs": [
        {
          "output_type": "stream",
          "name": "stdout",
          "text": [
            "Args in experiment:\n",
            "Namespace(activation='gelu', attn='prob', batch_size=32, c_out=1, checkpoints='./checkpoints/', cols=None, d_ff=2048, d_layers=1, d_model=512, data='Battery', data_path='dataset4.csv', dec_in=1, des='test', detail_freq='s', devices='0,1,2,3', distil=True, do_predict=False, dropout=0.05, e_layers=2, embed='timeF', enc_in=1, factor=5, features='S', freq='s', gpu=0, inverse=True, itr=2, label_len=48, learning_rate=0.0001, loss='mse', lradj='type1', mix=True, model='informer', n_heads=8, num_workers=0, output_attention=False, padding=0, patience=3, pred_len=24, root_path='/content/drive/MyDrive/Informer_2021/Inf.zip (Unzipped Files)/Inf/ETDataset-main/ETT-small', s_layers=[3, 2, 1], seq_len=96, target='Voltage', train_epochs=4, use_amp=False, use_gpu=True, use_multi_gpu=False)\n",
            "Use GPU: cuda:0\n",
            ">>>>>>>start training : informer_Battery_ftS_sl96_ll48_pl24_dm512_nh8_el2_dl1_df2048_atprob_fc5_ebtimeF_dtTrue_mxTrue_test_0>>>>>>>>>>>>>>>>>>>>>>>>>>\n",
            "train 2771\n",
            "val 391\n",
            "test 802\n",
            "Epoch: 1 cost time: 7.344261884689331\n",
            "Epoch: 1, Steps: 86 | Train Loss: 0.0358575 Vali Loss: 0.0085459 Test Loss: 0.0225401\n",
            "Validation loss decreased (inf --> 0.008546).  Saving model ...\n",
            "Updating learning rate to 0.0001\n",
            "Epoch: 2 cost time: 7.292252779006958\n",
            "Epoch: 2, Steps: 86 | Train Loss: 0.0099792 Vali Loss: 0.0079763 Test Loss: 0.0250565\n",
            "Validation loss decreased (0.008546 --> 0.007976).  Saving model ...\n",
            "Updating learning rate to 5e-05\n",
            "Epoch: 3 cost time: 7.3354103565216064\n",
            "Epoch: 3, Steps: 86 | Train Loss: 0.0076146 Vali Loss: 0.0058239 Test Loss: 0.0218848\n",
            "Validation loss decreased (0.007976 --> 0.005824).  Saving model ...\n",
            "Updating learning rate to 2.5e-05\n",
            "Epoch: 4 cost time: 7.413128614425659\n",
            "Epoch: 4, Steps: 86 | Train Loss: 0.0070460 Vali Loss: 0.0063241 Test Loss: 0.0261545\n",
            "EarlyStopping counter: 1 out of 3\n",
            "Updating learning rate to 1.25e-05\n",
            ">>>>>>>testing : informer_Battery_ftS_sl96_ll48_pl24_dm512_nh8_el2_dl1_df2048_atprob_fc5_ebtimeF_dtTrue_mxTrue_test_0<<<<<<<<<<<<<<<<<<<<<<<<<<<<<<<<<\n",
            "test 802\n",
            "test shape: (25, 32, 24, 1) (25, 32, 24, 1)\n",
            "test shape: (800, 24, 1) (800, 24, 1)\n",
            "mse:0.021616194397211075, mae:0.0686873346567154\n",
            "Use GPU: cuda:0\n",
            ">>>>>>>start training : informer_Battery_ftS_sl96_ll48_pl24_dm512_nh8_el2_dl1_df2048_atprob_fc5_ebtimeF_dtTrue_mxTrue_test_1>>>>>>>>>>>>>>>>>>>>>>>>>>\n",
            "train 2771\n",
            "val 391\n",
            "test 802\n",
            "Epoch: 1 cost time: 7.386223077774048\n",
            "Epoch: 1, Steps: 86 | Train Loss: 0.0362042 Vali Loss: 0.0151135 Test Loss: 0.0334117\n",
            "Validation loss decreased (inf --> 0.015113).  Saving model ...\n",
            "Updating learning rate to 0.0001\n",
            "Epoch: 2 cost time: 7.440467119216919\n",
            "Epoch: 2, Steps: 86 | Train Loss: 0.0106576 Vali Loss: 0.0070879 Test Loss: 0.0268098\n",
            "Validation loss decreased (0.015113 --> 0.007088).  Saving model ...\n",
            "Updating learning rate to 5e-05\n",
            "Epoch: 3 cost time: 7.45176887512207\n",
            "Epoch: 3, Steps: 86 | Train Loss: 0.0075489 Vali Loss: 0.0062073 Test Loss: 0.0230932\n",
            "Validation loss decreased (0.007088 --> 0.006207).  Saving model ...\n",
            "Updating learning rate to 2.5e-05\n",
            "Epoch: 4 cost time: 7.476110935211182\n",
            "Epoch: 4, Steps: 86 | Train Loss: 0.0070765 Vali Loss: 0.0060002 Test Loss: 0.0223399\n",
            "Validation loss decreased (0.006207 --> 0.006000).  Saving model ...\n",
            "Updating learning rate to 1.25e-05\n",
            ">>>>>>>testing : informer_Battery_ftS_sl96_ll48_pl24_dm512_nh8_el2_dl1_df2048_atprob_fc5_ebtimeF_dtTrue_mxTrue_test_1<<<<<<<<<<<<<<<<<<<<<<<<<<<<<<<<<\n",
            "test 802\n",
            "test shape: (25, 32, 24, 1) (25, 32, 24, 1)\n",
            "test shape: (800, 24, 1) (800, 24, 1)\n",
            "mse:0.02227591909468174, mae:0.07180793583393097\n"
          ]
        }
      ]
    },
    {
      "cell_type": "markdown",
      "source": [
        "### **Plotting Results**"
      ],
      "metadata": {
        "id": "lz2jkNWoIUZC"
      }
    },
    {
      "cell_type": "markdown",
      "source": [
        "##### **Changing Directory path**\n",
        "\n",
        "1. Once the code is run a results folder will be created in the same folder which contains `main_informer.py` file under the folder name `results`.\n",
        "\n",
        "2. The `results` folder contains 2 folders for two test runs each.\n",
        "\n",
        "3. Copy the path for either one of the folders and paste it in the code below.\n",
        "\n",
        "4. The path of the used in the code below is ``/content/drive/MyDrive/Informer_model/informer/results/informer_Battery_ftS_sl96_ll48_pl24_dm512_nh8_el2_dl1_df2048_atprob_fc5_ebtimeF_dtTrue_mxTrue_test_1``\n"
      ],
      "metadata": {
        "id": "FyqIBoLxIYc1"
      }
    },
    {
      "cell_type": "code",
      "source": [
        "%cd /content/drive/MyDrive/Informer_model/informer/results/informer_Battery_ftS_sl96_ll48_pl24_dm512_nh8_el2_dl1_df2048_atprob_fc5_ebtimeF_dtTrue_mxTrue_test_1\n",
        "!ls"
      ],
      "metadata": {
        "colab": {
          "base_uri": "https://localhost:8080/"
        },
        "id": "llmO9iVOIdhx",
        "outputId": "f500f732-6cca-4a54-ba64-01ff718803fc"
      },
      "execution_count": 6,
      "outputs": [
        {
          "output_type": "stream",
          "name": "stdout",
          "text": [
            "/content/drive/MyDrive/Informer_model/informer/results/informer_Battery_ftS_sl96_ll48_pl24_dm512_nh8_el2_dl1_df2048_atprob_fc5_ebtimeF_dtTrue_mxTrue_test_1\n",
            "metrics.npy  pred.npy  true.npy\n"
          ]
        }
      ]
    },
    {
      "cell_type": "code",
      "source": [
        "# Importing Requirements for plotting\n",
        "import numpy as np\n",
        "import matplotlib.pyplot as plt\n",
        "import seaborn as sns\n",
        "\n",
        "\n",
        "preds = np.load('pred.npy') # Predicted parameters\n",
        "trues = np.load('true.npy') # Ground truth parameters"
      ],
      "metadata": {
        "id": "s5XLA2QAIoI1"
      },
      "execution_count": 7,
      "outputs": []
    },
    {
      "cell_type": "code",
      "source": [
        "plt.figure()\n",
        "# The below range plots the first 500 data points to get the whole plot use trues[:,1,-1] and preds[:,1,-1]\n",
        "plt.plot(trues[:500,1,-1], label='GroundTruth') \n",
        "plt.plot(preds[:500,1,-1], label='Prediction')\n",
        "plt.yticks([2.5,3,3.5,4,4.5,5]) # Y-axis markings (can be varied depending on the requirement)\n",
        "plt.legend()\n",
        "plt.show()"
      ],
      "metadata": {
        "colab": {
          "base_uri": "https://localhost:8080/",
          "height": 269
        },
        "id": "E1cFK6YlIoL4",
        "outputId": "d1aba780-a6cb-4325-bbe4-b7f26e28d578"
      },
      "execution_count": 25,
      "outputs": [
        {
          "output_type": "display_data",
          "data": {
            "text/plain": [
              "<Figure size 432x288 with 1 Axes>"
            ],
            "image/png": "[encoded data removed]"
          },
          "metadata": {
            "needs_background": "light"
          }
        }
      ]
    }
  ]
}